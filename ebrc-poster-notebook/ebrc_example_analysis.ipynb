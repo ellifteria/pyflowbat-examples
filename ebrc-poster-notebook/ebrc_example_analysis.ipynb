{
 "cells": [
  {
   "cell_type": "code",
   "execution_count": null,
   "metadata": {},
   "outputs": [],
   "source": [
    "import pyflowbat as pfb\n",
    "import numpy as np"
   ]
  },
  {
   "cell_type": "code",
   "execution_count": null,
   "metadata": {},
   "outputs": [],
   "source": [
    "my_wrkspc = pfb.pyflowbat.Workspace(full_output=True)"
   ]
  },
  {
   "cell_type": "code",
   "execution_count": null,
   "metadata": {},
   "outputs": [],
   "source": [
    "my_wrkspc.calculate_beads_factors(\"./ebrc-poster-example-data/Beads_After.fcs\", [[\"PE-Texas Red-A\", \"MEPTRs\"], [\"FITC-A\", \"MEFLs\"]], 9)"
   ]
  },
  {
   "cell_type": "code",
   "execution_count": null,
   "metadata": {},
   "outputs": [],
   "source": [
    "my_wrkspc.load_samples(\"raw\", \"./ebrc-poster-example-data/\", include = ['.fcs'], not_include = ['Beads'])"
   ]
  },
  {
   "cell_type": "code",
   "execution_count": null,
   "metadata": {},
   "outputs": [],
   "source": [
    "my_wrkspc.apply_gate('raw', 'heks', pfb.gating.gate_heks, method = 'same', samples = ['373_C_001.fcs', '664_D_002.fcs', '373_M_001.fcs'])"
   ]
  },
  {
   "cell_type": "code",
   "execution_count": null,
   "metadata": {},
   "outputs": [],
   "source": [
    "i = 0\n",
    "for sample in my_wrkspc.sample_collections['raw']:\n",
    "    if i > 5:\n",
    "        break\n",
    "    print(sample)\n",
    "    my_wrkspc.visualize_plot_change(\"raw\", sample, 'heks', sample, [\"FSC-A\", \"SSC-A\"])\n",
    "    i += 1"
   ]
  },
  {
   "cell_type": "code",
   "execution_count": null,
   "metadata": {},
   "outputs": [],
   "source": [
    "my_wrkspc.apply_gate('heks', 'singlets', pfb.gating.gate_singlets)"
   ]
  },
  {
   "cell_type": "code",
   "execution_count": null,
   "metadata": {},
   "outputs": [],
   "source": [
    "i = 0\n",
    "for sample in my_wrkspc.sample_collections['heks']:\n",
    "    if i > 5:\n",
    "        break\n",
    "    print(sample)\n",
    "    my_wrkspc.visualize_plot_change(\"heks\", sample, 'singlets', sample, [\"FSC-A\", \"FSC-H\"])\n",
    "    i += 1"
   ]
  },
  {
   "cell_type": "code",
   "execution_count": null,
   "metadata": {},
   "outputs": [],
   "source": [
    "my_wrkspc.calculate_compensation_matrix('singlets', ['Colors_DsRE2.fcs', 'Colors_mNG.fcs'], ['PE-Texas Red-A', 'FITC-A'], threshold=10**-3)"
   ]
  },
  {
   "cell_type": "code",
   "execution_count": null,
   "metadata": {},
   "outputs": [],
   "source": [
    "my_wrkspc.apply_compensation_matrix(\"singlets\", \"compensated\")"
   ]
  },
  {
   "cell_type": "code",
   "execution_count": null,
   "metadata": {},
   "outputs": [],
   "source": [
    "my_wrkspc.apply_gate(\"compensated\", \"transfected\", pfb.gating.gate_high_low, gating_channel_name=\"Alexa 750-A\", low=pfb.gating.find_percentile(my_wrkspc, \"compensated\", \"Colors_Filler.fcs\", channel_name=\"Alexa 750-A\", percentile=99))"
   ]
  },
  {
   "cell_type": "code",
   "execution_count": null,
   "metadata": {},
   "outputs": [],
   "source": [
    "dox_conc = {\n",
    "    'A':0,\n",
    "    'B':10**0,\n",
    "    'C':10**0.17,\n",
    "    'D':10**0.33,\n",
    "    'E':10**0.50,\n",
    "    'F':10**0.63,\n",
    "    'G':10**0.75,\n",
    "    'H':10**0.88,\n",
    "    'I':10**1.0,\n",
    "    'J':10**1.08,\n",
    "    'K':10**1.25,\n",
    "    'L':10**1.33,\n",
    "    'M':10**1.50,\n",
    "    'N':10**1.75,\n",
    "    'O':10**2.0,\n",
    "    'P':10**3.0\n",
    "}"
   ]
  },
  {
   "cell_type": "code",
   "execution_count": null,
   "metadata": {},
   "outputs": [],
   "source": [
    "extraction = my_wrkspc.create_statistic_extraction(\n",
    "    'transfected',\n",
    "    'samples',\n",
    "    ['.fcs'],\n",
    "    ['Beads', 'Controls', 'Colors'],\n",
    "    ['line', 'dox_conc', 'sample','Mean FITC-A', 'Mean PE-Texas Red-A']\n",
    ")\n",
    "my_wrkspc.extract_statistic(\n",
    "    extraction,\n",
    "    'line',\n",
    "    pfb.operations.split_sample_name,\n",
    "    by = '_',\n",
    "    index = 0\n",
    ")\n",
    "my_wrkspc.extract_statistic(\n",
    "    extraction,\n",
    "    'dox_conc',\n",
    "    pfb.operations.split_sample_name,\n",
    "    by = '_',\n",
    "    index = 1\n",
    ")\n",
    "my_wrkspc.extract_statistic(\n",
    "    extraction,\n",
    "    'sample',\n",
    "    pfb.operations.split_sample_name,\n",
    "    by = '_',\n",
    "    index = 2\n",
    ")\n",
    "my_wrkspc.extract_statistic(\n",
    "    extraction,\n",
    "    'Mean FITC-A',\n",
    "    pfb.operations.channel_mean,\n",
    "    channel_name = 'FITC-A' \n",
    ")\n",
    "my_wrkspc.extract_statistic(\n",
    "    extraction,\n",
    "    'Mean PE-Texas Red-A',\n",
    "    pfb.operations.channel_mean,\n",
    "    channel_name = 'PE-Texas Red-A'\n",
    ")"
   ]
  },
  {
   "cell_type": "code",
   "execution_count": null,
   "metadata": {},
   "outputs": [],
   "source": [
    "my_wrkspc.combine_replicates(\n",
    "    'samples',\n",
    "    'samples combined',\n",
    "    ['dox_conc', 'line'],\n",
    "    {\n",
    "        'Mean FITC-A': 'mean',\n",
    "        'Mean PE-Texas Red-A': 'mean'\n",
    "    },\n",
    "    [\n",
    "       'Mean FITC-A',\n",
    "       'Mean PE-Texas Red-A' \n",
    "    ]\n",
    ")"
   ]
  },
  {
   "cell_type": "code",
   "execution_count": null,
   "metadata": {},
   "outputs": [],
   "source": [
    "my_wrkspc.apply_operation(\n",
    "    \"samples combined\",\n",
    "    \"samples converted\",\n",
    "    \"Mean FITC-A\",\n",
    "    \"Mean FITC-A\",\n",
    "    pfb.operations.non_negative\n",
    ")\n",
    "my_wrkspc.apply_operation(\n",
    "    \"samples combined\",\n",
    "    \"samples converted\",\n",
    "    \"Mean PE-Texas Red-A\",\n",
    "    \"Mean PE-Texas Red-A\",\n",
    "    pfb.operations.non_negative\n",
    ")\n",
    "my_wrkspc.apply_operation(\n",
    "    \"samples converted\",\n",
    "    \"samples converted\",\n",
    "    \"Mean FITC-A\",\n",
    "    \"MEFLs\",\n",
    "    pfb.operations.apply_conversion_factor,\n",
    "    factor = my_wrkspc.conversion_factors[\"FITC-A\"]\n",
    ")\n",
    "my_wrkspc.apply_operation(\n",
    "    \"samples converted\",\n",
    "    \"samples converted\",\n",
    "    [\"Mean FITC-A\", \"Mean FITC-A_stdErr\"],\n",
    "    \"MEFLs_stdErr\",\n",
    "    pfb.operations.compute_conversion_factor_stdErr,\n",
    "    factor = my_wrkspc.conversion_factors[\"FITC-A\"],\n",
    "    factor_err = my_wrkspc.conversion_factors[\"FITC-A_stderr\"]\n",
    ")\n",
    "my_wrkspc.apply_operation(\n",
    "    \"samples converted\",\n",
    "    \"samples converted\",\n",
    "    \"Mean PE-Texas Red-A\",\n",
    "    \"MEPTRs\",\n",
    "    pfb.operations.apply_conversion_factor,\n",
    "    factor = my_wrkspc.conversion_factors[\"PE-Texas Red-A\"]\n",
    ")\n",
    "my_wrkspc.apply_operation(\n",
    "    \"samples converted\",\n",
    "    \"samples converted\",\n",
    "    [\"Mean PE-Texas Red-A\", \"Mean PE-Texas Red-A_stdErr\"],\n",
    "    \"MEPTRs_stdErr\",\n",
    "    pfb.operations.compute_conversion_factor_stdErr,\n",
    "    factor = my_wrkspc.conversion_factors[\"PE-Texas Red-A\"],\n",
    "    factor_err = my_wrkspc.conversion_factors[\"PE-Texas Red-A_stderr\"]\n",
    ")"
   ]
  },
  {
   "cell_type": "code",
   "execution_count": null,
   "metadata": {},
   "outputs": [],
   "source": [
    "my_wrkspc.graph_statistics(\n",
    "    [\n",
    "        [\"samples converted\", 'MEFLs', 'MEPTRs', ['line', '373']],\n",
    "        [\"samples converted\", 'MEFLs', 'MEPTRs', ['line', '664']],\n",
    "        [\"samples converted\", 'MEFLs', 'MEPTRs', ['line', '665']],\n",
    "        [\"samples converted\", 'MEFLs', 'MEPTRs', ['line', '666']],\n",
    "        [\"samples converted\", 'MEFLs', 'MEPTRs', ['line', '667']]\n",
    "    ],\n",
    "    errors=[True, True],\n",
    "    legend=[\"no synTF\", \"VP64\", \"VPR\", \"p65\", \"p65trunc2\"],\n",
    "    title=\"ZF1 DNA-binding domain:\\n MEPTRs vs. MEFLs\",\n",
    "    labels=[\"synTF proxy expression (MEFLs)\", \"Reporter expression (MEPTRs)\"],\n",
    "    xlog=True,\n",
    "    ylog=True,\n",
    "    save=True\n",
    ")"
   ]
  },
  {
   "cell_type": "code",
   "execution_count": null,
   "metadata": {},
   "outputs": [],
   "source": [
    "my_wrkspc.graph_statistics(\n",
    "    [\n",
    "        [\"samples converted\", 'MEFLs', 'MEPTRs', ['line', '373']],\n",
    "        [\"samples converted\", 'MEFLs', 'MEPTRs', ['line', '664']],\n",
    "        [\"samples converted\", 'MEFLs', 'MEPTRs', ['line', '668']],\n",
    "        [\"samples converted\", 'MEFLs', 'MEPTRs', ['line', '669']],\n",
    "        [\"samples converted\", 'MEFLs', 'MEPTRs', ['line', '670']],\n",
    "        [\"samples converted\", 'MEFLs', 'MEPTRs', ['line', '671']],\n",
    "        [\"samples converted\", 'MEFLs', 'MEPTRs', ['line', '672']]\n",
    "    ],\n",
    "    errors=[True, True],\n",
    "    legend=[\"no synTF\", \"ZF1\", \"ZF6\", \"ZF8\", \"ZF9\", \"ZF10\", \"ZF15\"],\n",
    "    title=\"VP64 activation domain:\\n MEPTRs vs. MEFLs\",\n",
    "    labels=[\"synTF proxy expression (MEFLs)\", \"Reporter expression (MEPTRs)\"],\n",
    "    xlog=True,\n",
    "    ylog=True,\n",
    "    save=\"tst.png\"\n",
    ")"
   ]
  },
  {
   "cell_type": "code",
   "execution_count": null,
   "metadata": {},
   "outputs": [],
   "source": [
    "my_wrkspc.stats_collections['samples converted'].to_csv(\"ebrc-example-output.csv\")"
   ]
  }
 ],
 "metadata": {
  "kernelspec": {
   "display_name": "base",
   "language": "python",
   "name": "python3"
  },
  "language_info": {
   "codemirror_mode": {
    "name": "ipython",
    "version": 3
   },
   "file_extension": ".py",
   "mimetype": "text/x-python",
   "name": "python",
   "nbconvert_exporter": "python",
   "pygments_lexer": "ipython3",
   "version": "3.11.4"
  },
  "vscode": {
   "interpreter": {
    "hash": "76ce843ad4777da933677603a086f3d816193e0dff13fef017049e612a0149a5"
   }
  }
 },
 "nbformat": 4,
 "nbformat_minor": 2
}
