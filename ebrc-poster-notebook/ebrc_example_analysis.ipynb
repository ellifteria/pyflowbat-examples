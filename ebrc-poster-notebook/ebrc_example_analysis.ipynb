{
 "cells": [
  {
   "cell_type": "code",
   "execution_count": null,
   "metadata": {},
   "outputs": [],
   "source": [
    "import pyflowbat as pfb\n",
    "import numpy as np"
   ]
  },
  {
   "cell_type": "code",
   "execution_count": null,
   "metadata": {},
   "outputs": [],
   "source": [
    "my_wrkspc = pfb.pyflowbat.Workspace(full_output=True)"
   ]
  },
  {
   "cell_type": "code",
   "execution_count": null,
   "metadata": {},
   "outputs": [],
   "source": [
    "my_wrkspc.calculate_beads_factors(\n",
    "    beads_file_file_path=\"./ebrc-poster-example-data/Beads_After.fcs\",\n",
    "    beads_fluorescent_channels=[\n",
    "        (\"PE-Texas Red-A\", \"MEPTRs\"),\n",
    "        (\"FITC-A\", \"MEFLs\")\n",
    "    ],\n",
    "    beads_num_pops=9\n",
    ")"
   ]
  },
  {
   "cell_type": "code",
   "execution_count": null,
   "metadata": {},
   "outputs": [],
   "source": [
    "my_wrkspc.load_samples(\n",
    "    sample_collection_name=\"raw\",\n",
    "    samples_folder_path=\"./ebrc-poster-example-data/\",\n",
    "    include=['.fcs'],\n",
    "    not_include=['Beads']\n",
    ")"
   ]
  },
  {
   "cell_type": "code",
   "execution_count": null,
   "metadata": {},
   "outputs": [],
   "source": [
    "my_wrkspc.apply_gate(\n",
    "    sample_collection_name='raw',\n",
    "    new_sample_collection_name='heks',\n",
    "    gating_function=pfb.gating.gate_heks,\n",
    "    method = 'same',\n",
    "    samples = ['373_C_001.fcs', '664_D_002.fcs', '373_M_001.fcs']\n",
    ")"
   ]
  },
  {
   "cell_type": "code",
   "execution_count": null,
   "metadata": {},
   "outputs": [],
   "source": [
    "i = 0\n",
    "for sample in my_wrkspc.sample_collections['raw']:\n",
    "    if i > 5:\n",
    "        break\n",
    "    print(sample)\n",
    "    my_wrkspc.visualize_plot_change(\n",
    "        sample_collection_name_0=\"raw\",\n",
    "        sample_collection_name_f='heks',\n",
    "        sample_name=sample,\n",
    "        channel_names=(\"FSC-A\", \"SSC-A\")\n",
    "    )\n",
    "    i += 1"
   ]
  },
  {
   "cell_type": "code",
   "execution_count": null,
   "metadata": {},
   "outputs": [],
   "source": [
    "my_wrkspc.apply_gate(\n",
    "    sample_collection_name='heks',\n",
    "    new_sample_collection_name='singlets',\n",
    "    gating_function=pfb.gating.gate_singlets\n",
    ")"
   ]
  },
  {
   "cell_type": "code",
   "execution_count": null,
   "metadata": {},
   "outputs": [],
   "source": [
    "i = 0\n",
    "for sample in my_wrkspc.sample_collections['heks']:\n",
    "    if i > 5:\n",
    "        break\n",
    "    print(sample)\n",
    "    my_wrkspc.visualize_plot_change(\n",
    "        sample_collection_name_0=\"heks\",\n",
    "        sample_collection_name_f='singlets',\n",
    "        sample_name=sample,\n",
    "        channel_names=(\"FSC-A\", \"FSC-H\")\n",
    "    )\n",
    "    i += 1"
   ]
  },
  {
   "cell_type": "code",
   "execution_count": null,
   "metadata": {},
   "outputs": [],
   "source": [
    "my_wrkspc.calculate_compensation_matrix(\n",
    "    sample_collection_name=\"singlets\",\n",
    "    compensation_sample_names=['Colors_DsRE2.fcs', 'Colors_mNG.fcs'],\n",
    "    compensation_channel_names=['PE-Texas Red-A', 'FITC-A'],\n",
    "    threshold=10**-3\n",
    ")"
   ]
  },
  {
   "cell_type": "code",
   "execution_count": null,
   "metadata": {},
   "outputs": [],
   "source": [
    "my_wrkspc.apply_compensation_matrix(\n",
    "    sample_collection_name=\"singlets\",\n",
    "    new_sample_collection_name=\"compensated\"\n",
    ")"
   ]
  },
  {
   "cell_type": "code",
   "execution_count": null,
   "metadata": {},
   "outputs": [],
   "source": [
    "my_wrkspc.apply_gate(\n",
    "    sample_collection_name=\"compensated\",\n",
    "    new_sample_collection_name=\"transfected\",\n",
    "    gating_function=pfb.gating.gate_high_low,\n",
    "    gating_channel_name=\"Alexa 750-A\",\n",
    "    low=pfb.gating.find_percentile(\n",
    "        workspace=my_wrkspc,\n",
    "        sample_collection_name=\"compensated\",\n",
    "        sample_name=\"Colors_Filler.fcs\",\n",
    "        channel_name=\"Alexa 750-A\",\n",
    "        percentile=99\n",
    "    )\n",
    ")"
   ]
  },
  {
   "cell_type": "code",
   "execution_count": null,
   "metadata": {},
   "outputs": [],
   "source": [
    "dox_conc = {\n",
    "    'A':0,\n",
    "    'B':10**0,\n",
    "    'C':10**0.17,\n",
    "    'D':10**0.33,\n",
    "    'E':10**0.50,\n",
    "    'F':10**0.63,\n",
    "    'G':10**0.75,\n",
    "    'H':10**0.88,\n",
    "    'I':10**1.0,\n",
    "    'J':10**1.08,\n",
    "    'K':10**1.25,\n",
    "    'L':10**1.33,\n",
    "    'M':10**1.50,\n",
    "    'N':10**1.75,\n",
    "    'O':10**2.0,\n",
    "    'P':10**3.0\n",
    "}"
   ]
  },
  {
   "cell_type": "code",
   "execution_count": null,
   "metadata": {},
   "outputs": [],
   "source": [
    "extraction = my_wrkspc.create_statistic_extraction(\n",
    "    sample_collection_name='transfected',\n",
    "    statistics_collection_name='samples',\n",
    "    include=['.fcs'],\n",
    "    not_include=['Beads', 'Controls', 'Colors'],\n",
    "    statistic_names=['line', 'dox_conc', 'sample','Mean FITC-A', 'Mean PE-Texas Red-A']\n",
    ")\n",
    "my_wrkspc.extract_statistic(\n",
    "    extraction=extraction,\n",
    "    statistc_name='line',\n",
    "    operation=pfb.operations.split_sample_name,\n",
    "    by = '_',\n",
    "    index = 0\n",
    ")\n",
    "my_wrkspc.extract_statistic(\n",
    "    extraction=extraction,\n",
    "    statistc_name='dox_conc',\n",
    "    operation=pfb.operations.split_sample_name,\n",
    "    by = '_',\n",
    "    index = 1\n",
    ")\n",
    "my_wrkspc.extract_statistic(\n",
    "    extraction=extraction,\n",
    "    statistc_name='sample',\n",
    "    operation=pfb.operations.split_sample_name,\n",
    "    by = '_',\n",
    "    index = 2\n",
    ")\n",
    "my_wrkspc.extract_statistic(\n",
    "    extraction=extraction,\n",
    "    statistc_name='Mean FITC-A',\n",
    "    operation=pfb.operations.channel_mean,\n",
    "    channel_name = 'FITC-A' \n",
    ")\n",
    "my_wrkspc.extract_statistic(\n",
    "    extraction=extraction,\n",
    "    statistc_name='Mean PE-Texas Red-A',\n",
    "    operation=pfb.operations.channel_mean,\n",
    "    channel_name = 'PE-Texas Red-A'\n",
    ")"
   ]
  },
  {
   "cell_type": "code",
   "execution_count": null,
   "metadata": {},
   "outputs": [],
   "source": [
    "my_wrkspc.combine_replicates(\n",
    "    statistics_collection_name='samples',\n",
    "    combined_statistics_collection_name='samples combined',\n",
    "    combine_by=['dox_conc', 'line'],\n",
    "    combination_operations={\n",
    "        'Mean FITC-A': 'mean',\n",
    "        'Mean PE-Texas Red-A': 'mean'\n",
    "    },\n",
    "    sem_cols=[\n",
    "       'Mean FITC-A',\n",
    "       'Mean PE-Texas Red-A' \n",
    "    ]\n",
    ")"
   ]
  },
  {
   "cell_type": "code",
   "execution_count": null,
   "metadata": {},
   "outputs": [],
   "source": [
    "my_wrkspc.apply_operation(\n",
    "    statistics_collection_name=\"samples combined\",\n",
    "    new_statistics_collection_name=\"samples converted\",\n",
    "    statistic_name=\"Mean FITC-A\",\n",
    "    new_statistic_name=\"Mean FITC-A\",\n",
    "    operation=pfb.operations.non_negative\n",
    ")\n",
    "my_wrkspc.apply_operation(\n",
    "    statistics_collection_name=\"samples combined\",\n",
    "    new_statistics_collection_name=\"samples converted\",\n",
    "    statistic_name=\"Mean PE-Texas Red-A\",\n",
    "    new_statistic_name=\"Mean PE-Texas Red-A\",\n",
    "    operation=pfb.operations.non_negative\n",
    ")\n",
    "my_wrkspc.apply_operation(\n",
    "    statistics_collection_name=\"samples converted\",\n",
    "    new_statistics_collection_name=\"samples converted\",\n",
    "    statistic_name=\"Mean FITC-A\",\n",
    "    new_statistic_name=\"MEFLs\",\n",
    "    operation=pfb.operations.apply_conversion_factor,\n",
    "    factor=my_wrkspc.conversion_factors[\"FITC-A\"]\n",
    ")\n",
    "my_wrkspc.apply_operation(\n",
    "    statistics_collection_name=\"samples converted\",\n",
    "    new_statistics_collection_name=\"samples converted\",\n",
    "    statistic_name=[\"Mean FITC-A\", \"Mean FITC-A_stdErr\"],\n",
    "    new_statistic_name=\"MEFLs_stdErr\",\n",
    "    operation=pfb.operations.compute_conversion_factor_stdErr,\n",
    "    factor=my_wrkspc.conversion_factors[\"FITC-A\"],\n",
    "    factor_err=my_wrkspc.conversion_factors[\"FITC-A_stderr\"]\n",
    ")\n",
    "my_wrkspc.apply_operation(\n",
    "    statistics_collection_name=\"samples converted\",\n",
    "    new_statistics_collection_name=\"samples converted\",\n",
    "    statistic_name=\"Mean PE-Texas Red-A\",\n",
    "    new_statistic_name=\"MEPTRs\",\n",
    "    operation=pfb.operations.apply_conversion_factor,\n",
    "    factor=my_wrkspc.conversion_factors[\"PE-Texas Red-A\"]\n",
    ")\n",
    "my_wrkspc.apply_operation(\n",
    "    statistics_collection_name=\"samples converted\",\n",
    "    new_statistics_collection_name=\"samples converted\",\n",
    "    statistic_name=[\"Mean PE-Texas Red-A\", \"Mean PE-Texas Red-A_stdErr\"],\n",
    "    new_statistic_name=\"MEPTRs_stdErr\",\n",
    "    operation=pfb.operations.compute_conversion_factor_stdErr,\n",
    "    factor=my_wrkspc.conversion_factors[\"PE-Texas Red-A\"],\n",
    "    factor_err=my_wrkspc.conversion_factors[\"PE-Texas Red-A_stderr\"]\n",
    ")"
   ]
  },
  {
   "cell_type": "code",
   "execution_count": null,
   "metadata": {},
   "outputs": [],
   "source": [
    "my_wrkspc.graph_statistics(\n",
    "    data=[\n",
    "        [\"samples converted\", 'MEFLs', 'MEPTRs', ('line', '373')],\n",
    "        [\"samples converted\", 'MEFLs', 'MEPTRs', ('line', '664')],\n",
    "        [\"samples converted\", 'MEFLs', 'MEPTRs', ('line', '665')],\n",
    "        [\"samples converted\", 'MEFLs', 'MEPTRs', ('line', '666')],\n",
    "        [\"samples converted\", 'MEFLs', 'MEPTRs', ('line', '667')]\n",
    "    ],\n",
    "    errors=[True, True],\n",
    "    legend=[\"no synTF\", \"VP64\", \"VPR\", \"p65\", \"p65trunc2\"],\n",
    "    title=\"ZF1 DNA-binding domain:\\n MEPTRs vs. MEFLs\",\n",
    "    labels=[\"synTF proxy expression (MEFLs)\", \"Reporter expression (MEPTRs)\"],\n",
    "    xlog=True,\n",
    "    ylog=True,\n",
    "    save=True\n",
    ")"
   ]
  },
  {
   "cell_type": "code",
   "execution_count": null,
   "metadata": {},
   "outputs": [],
   "source": [
    "my_wrkspc.graph_statistics(\n",
    "    data=[\n",
    "        [\"samples converted\", 'MEFLs', 'MEPTRs', ['line', '373']],\n",
    "        [\"samples converted\", 'MEFLs', 'MEPTRs', ['line', '664']],\n",
    "        [\"samples converted\", 'MEFLs', 'MEPTRs', ['line', '668']],\n",
    "        [\"samples converted\", 'MEFLs', 'MEPTRs', ['line', '669']],\n",
    "        [\"samples converted\", 'MEFLs', 'MEPTRs', ['line', '670']],\n",
    "        [\"samples converted\", 'MEFLs', 'MEPTRs', ['line', '671']],\n",
    "        [\"samples converted\", 'MEFLs', 'MEPTRs', ['line', '672']]\n",
    "    ],\n",
    "    errors=[True, True],\n",
    "    legend=[\"no synTF\", \"ZF1\", \"ZF6\", \"ZF8\", \"ZF9\", \"ZF10\", \"ZF15\"],\n",
    "    title=\"VP64 activation domain:\\n MEPTRs vs. MEFLs\",\n",
    "    labels=[\"synTF proxy expression (MEFLs)\", \"Reporter expression (MEPTRs)\"],\n",
    "    xlog=True,\n",
    "    ylog=True,\n",
    "    save=\"tst.png\"\n",
    ")"
   ]
  },
  {
   "cell_type": "code",
   "execution_count": null,
   "metadata": {},
   "outputs": [],
   "source": [
    "my_wrkspc.stats_collections['samples converted'].to_csv(\"ebrc-example-output.csv\")"
   ]
  }
 ],
 "metadata": {
  "kernelspec": {
   "display_name": "base",
   "language": "python",
   "name": "python3"
  },
  "language_info": {
   "codemirror_mode": {
    "name": "ipython",
    "version": 3
   },
   "file_extension": ".py",
   "mimetype": "text/x-python",
   "name": "python",
   "nbconvert_exporter": "python",
   "pygments_lexer": "ipython3",
   "version": "3.11.4"
  },
  "vscode": {
   "interpreter": {
    "hash": "76ce843ad4777da933677603a086f3d816193e0dff13fef017049e612a0149a5"
   }
  }
 },
 "nbformat": 4,
 "nbformat_minor": 2
}
