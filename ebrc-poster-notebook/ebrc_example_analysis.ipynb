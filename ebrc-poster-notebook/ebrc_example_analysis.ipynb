{
 "cells": [
  {
   "cell_type": "code",
   "execution_count": null,
   "metadata": {},
   "outputs": [],
   "source": [
    "import pyflowbat as pfb\n",
    "import numpy as np"
   ]
  },
  {
   "cell_type": "code",
   "execution_count": null,
   "metadata": {},
   "outputs": [],
   "source": [
    "my_wrkspc = pfb.pyflowbat.Workspace(full_output=True)"
   ]
  },
  {
   "cell_type": "code",
   "execution_count": null,
   "metadata": {},
   "outputs": [],
   "source": [
    "my_wrkspc.calculate_beads_factors(\"./ebrc-poster-example-data/Beads_After.fcs\", [[\"PE-Texas Red-A\", \"MEPTRs\"], [\"FITC-A\", \"MEFLs\"]], 9)"
   ]
  },
  {
   "cell_type": "code",
   "execution_count": null,
   "metadata": {},
   "outputs": [],
   "source": [
    "my_wrkspc.load_samples(\"raw\", \"./ebrc-poster-example-data/\", lambda name: True if ('.fcs' in name and 'Beads' not in name) else False)"
   ]
  },
  {
   "cell_type": "code",
   "execution_count": null,
   "metadata": {},
   "outputs": [],
   "source": [
    "my_wrkspc.apply_gate('raw', 'heks', pfb.gating.gate_heks, {'method': 'same', 'samples': ['373_C_001.fcs', '664_D_002.fcs', '373_M_001.fcs']}, gate_type=2)"
   ]
  },
  {
   "cell_type": "code",
   "execution_count": null,
   "metadata": {},
   "outputs": [],
   "source": [
    "# i = 0\n",
    "# for sample in my_wrkspc.sample_collections['raw']:\n",
    "#     if i > 50:\n",
    "#         break\n",
    "#     print(sample)\n",
    "#     my_wrkspc.visualize_plot_change(\"raw\", sample, 'heks', sample, [\"FSC-A\", \"SSC-A\"])\n",
    "#     i += 1"
   ]
  },
  {
   "cell_type": "code",
   "execution_count": null,
   "metadata": {},
   "outputs": [],
   "source": [
    "my_wrkspc.apply_gate('heks', 'singlets', pfb.gating.gate_singlets, {})"
   ]
  },
  {
   "cell_type": "code",
   "execution_count": null,
   "metadata": {},
   "outputs": [],
   "source": [
    "# i = 0\n",
    "# for sample in my_wrkspc.sample_collections['heks']:\n",
    "#     if i > 10:\n",
    "#         break\n",
    "#     print(sample)\n",
    "#     my_wrkspc.visualize_plot_change(\"heks\", sample, 'singlets', sample, [\"FSC-A\", \"FSC-H\"])\n",
    "#     i += 1"
   ]
  },
  {
   "cell_type": "code",
   "execution_count": null,
   "metadata": {},
   "outputs": [],
   "source": [
    "my_wrkspc.calculate_compensation_matrix('singlets', ['Colors_DsRE2.fcs', 'Colors_mNG.fcs'], ['PE-Texas Red-A', 'FITC-A'], threshold=10**-3)"
   ]
  },
  {
   "cell_type": "code",
   "execution_count": null,
   "metadata": {},
   "outputs": [],
   "source": [
    "my_wrkspc.apply_compensation_matrix(\"singlets\", \"compensated\")"
   ]
  },
  {
   "cell_type": "code",
   "execution_count": null,
   "metadata": {},
   "outputs": [],
   "source": [
    "my_wrkspc.apply_gate(\"compensated\", \"transfected\", pfb.gating.gate_high_low, {\"channel\": \"Alexa 750-A\", \"low\": pfb.gating.find_percentile(my_wrkspc.sample_collections[\"compensated\"][\"Colors_Filler.fcs\"], **{\"channel\": \"Alexa 750-A\", \"percentile\":99.5})})"
   ]
  },
  {
   "cell_type": "code",
   "execution_count": null,
   "metadata": {},
   "outputs": [],
   "source": [
    "pfb.gating.find_percentile(my_wrkspc.sample_collections[\"compensated\"][\"Colors_Filler.fcs\"], **{\"channel\": \"Alexa 750-A\", \"percentile\":99.5})"
   ]
  },
  {
   "cell_type": "code",
   "execution_count": null,
   "metadata": {},
   "outputs": [],
   "source": [
    "# i = 0\n",
    "# for sample in my_wrkspc.sample_collections['raw']:\n",
    "#     if i > 5:\n",
    "#         break\n",
    "#     print(sample)\n",
    "#     my_wrkspc.visualize_plot_change(\"raw\", sample, 'transfected', sample, [\"PE-Texas Red-A\", \"FITC-A\"])\n",
    "#     i += 1"
   ]
  },
  {
   "cell_type": "code",
   "execution_count": null,
   "metadata": {},
   "outputs": [],
   "source": [
    "dox_conc = {\n",
    "    'A':0,\n",
    "    'B':10**0,\n",
    "    'C':10**0.17,\n",
    "    'D':10**0.33,\n",
    "    'E':10**0.50,\n",
    "    'F':10**0.63,\n",
    "    'G':10**0.75,\n",
    "    'H':10**0.88,\n",
    "    'I':10**1.0,\n",
    "    'J':10**1.08,\n",
    "    'K':10**1.25,\n",
    "    'L':10**1.33,\n",
    "    'M':10**1.50,\n",
    "    'N':10**1.75,\n",
    "    'O':10**2.0,\n",
    "    'P':10**3.0\n",
    "}"
   ]
  },
  {
   "cell_type": "code",
   "execution_count": null,
   "metadata": {},
   "outputs": [],
   "source": [
    "my_wrkspc.extract_statistics('transfected', 'samples', lambda name: True if (('Beads' not in name and 'Controls' not in name and 'Colors' not in name) and '.fcs' in name) else False,\n",
    "    [\n",
    "        ['line', lambda file_name, fcs_data: (file_name.split(\"_\"))[0]],\n",
    "        ['sample', lambda file_name, fcs_data: (file_name.split(\"_\"))[2]],\n",
    "        ['dox_conc', lambda file_name, fcs_data: dox_conc[(file_name.split(\"_\"))[1]]],\n",
    "        ['Mean FITC-A', lambda file_name, fcs_data: np.mean(fcs_data[:, 'FITC-A'])],\n",
    "        ['Mean PE-Texas Red-A', lambda file_name, fcs_data: np.mean(fcs_data[:, 'PE-Texas Red-A'])]\n",
    "    ]\n",
    ")"
   ]
  },
  {
   "cell_type": "code",
   "execution_count": null,
   "metadata": {},
   "outputs": [],
   "source": [
    "my_wrkspc.stats_collections[\"samples\"]"
   ]
  },
  {
   "cell_type": "code",
   "execution_count": null,
   "metadata": {},
   "outputs": [],
   "source": [
    "my_wrkspc.combine_replicates('samples', 'samples combined',\n",
    "    lambda row: [row['dox_conc'], row['line']],\n",
    "    [\n",
    "        ['CellLine', lambda row: row['line'], False],\n",
    "        ['DoxConc', lambda row: row['dox_conc'], False],\n",
    "        ['Mean FITC-A', lambda row: row['Mean FITC-A'], True],\n",
    "        ['Mean PE-Texas Red-A', lambda row: row['Mean PE-Texas Red-A'], True],\n",
    "        ['MEFLs', lambda x: 0, True],\n",
    "        ['MEPTRs', lambda x: 0, True]\n",
    "    ]\n",
    ")"
   ]
  },
  {
   "cell_type": "code",
   "execution_count": null,
   "metadata": {},
   "outputs": [],
   "source": [
    "my_wrkspc.stats_collections[\"samples combined\"]"
   ]
  },
  {
   "cell_type": "code",
   "execution_count": null,
   "metadata": {},
   "outputs": [],
   "source": [
    "my_wrkspc.apply_operation('samples combined', 'samples converted', \n",
    "    [\n",
    "        ['Mean FITC-A', lambda row, inputs: max(row['Mean FITC-A'], 0)],\n",
    "        ['Mean PE-Texas Red-A', lambda row, inputs: max(row['Mean PE-Texas Red-A'], 0)],\n",
    "        ['MEFLs', lambda row, inputs: row['Mean FITC-A']*my_wrkspc.conversion_factors[\"FITC-A\"]],\n",
    "        ['MEFLs_stdErr', lambda row, inputs: row['Mean FITC-A']*my_wrkspc.conversion_factors[\"FITC-A\"] * np.sqrt((row['Mean FITC-A_stdErr']/row['Mean FITC-A'])**2+(my_wrkspc.conversion_factors[\"FITC-A_stderr\"]/my_wrkspc.conversion_factors[\"FITC-A\"])**2)],\n",
    "        ['MEPTRs', lambda row, inputs: row['Mean PE-Texas Red-A']*my_wrkspc.conversion_factors[\"PE-Texas Red-A\"]],\n",
    "        ['MEPTRs_stdErr', lambda row, inputs: row['Mean PE-Texas Red-A']*my_wrkspc.conversion_factors[\"PE-Texas Red-A\"] * np.sqrt((row['Mean PE-Texas Red-A_stdErr']/row['Mean PE-Texas Red-A'])**2+(my_wrkspc.conversion_factors[\"PE-Texas Red-A_stderr\"]/my_wrkspc.conversion_factors[\"PE-Texas Red-A\"])**2)]\n",
    "    ], []\n",
    ")"
   ]
  },
  {
   "cell_type": "code",
   "execution_count": null,
   "metadata": {},
   "outputs": [],
   "source": [
    "my_wrkspc.graph_statistics(\n",
    "    [\n",
    "        [\"samples converted\", 'MEFLs', 'MEPTRs', ['CellLine', '373']],\n",
    "        [\"samples converted\", 'MEFLs', 'MEPTRs', ['CellLine', '664']],\n",
    "        [\"samples converted\", 'MEFLs', 'MEPTRs', ['CellLine', '665']],\n",
    "        [\"samples converted\", 'MEFLs', 'MEPTRs', ['CellLine', '666']],\n",
    "        [\"samples converted\", 'MEFLs', 'MEPTRs', ['CellLine', '667']]\n",
    "    ],\n",
    "    errors=[True, True],\n",
    "    legend=[\"no synTF\", \"VP64\", \"VPR\", \"p65\", \"p65trunc2\"],\n",
    "    title=\"ZF1:\\n MEPTRs vs. MEFLs\",\n",
    "    labels=[\"Dox Concentration (ng/mL)\", \"Reporter Expression (MEFLs)\"],\n",
    "    xlog=True,\n",
    "    ylog=True,\n",
    "    save=True\n",
    ")"
   ]
  },
  {
   "cell_type": "code",
   "execution_count": null,
   "metadata": {},
   "outputs": [],
   "source": [
    "my_wrkspc.graph_statistics(\n",
    "    [\n",
    "        [\"samples converted\", 'MEFLs', 'MEPTRs', ['CellLine', '373']],\n",
    "        [\"samples converted\", 'MEFLs', 'MEPTRs', ['CellLine', '664']],\n",
    "        [\"samples converted\", 'MEFLs', 'MEPTRs', ['CellLine', '668']],\n",
    "        [\"samples converted\", 'MEFLs', 'MEPTRs', ['CellLine', '669']],\n",
    "        [\"samples converted\", 'MEFLs', 'MEPTRs', ['CellLine', '670']],\n",
    "        [\"samples converted\", 'MEFLs', 'MEPTRs', ['CellLine', '671']],\n",
    "        [\"samples converted\", 'MEFLs', 'MEPTRs', ['CellLine', '672']]\n",
    "    ],\n",
    "    errors=[True, True],\n",
    "    legend=[\"no synTF\", \"ZF1\", \"ZF6\", \"ZF8\", \"ZF9\", \"ZF10\", \"ZF15\"],\n",
    "    title=\"VP64:\\n MEPTRs vs. MEFLs\",\n",
    "    labels=[\"Dox Concentration (ng/mL)\", \"Reporter Expression (MEFLs)\"],\n",
    "    xlog=True,\n",
    "    ylog=True,\n",
    "    save=True\n",
    ")"
   ]
  },
  {
   "cell_type": "code",
   "execution_count": null,
   "metadata": {},
   "outputs": [],
   "source": [
    "my_wrkspc.stats_collections['samples converted'].to_csv(\"ebrc-example-output.csv\")"
   ]
  }
 ],
 "metadata": {
  "kernelspec": {
   "display_name": "base",
   "language": "python",
   "name": "python3"
  },
  "language_info": {
   "codemirror_mode": {
    "name": "ipython",
    "version": 3
   },
   "file_extension": ".py",
   "mimetype": "text/x-python",
   "name": "python",
   "nbconvert_exporter": "python",
   "pygments_lexer": "ipython3",
   "version": "3.11.3"
  },
  "vscode": {
   "interpreter": {
    "hash": "76ce843ad4777da933677603a086f3d816193e0dff13fef017049e612a0149a5"
   }
  }
 },
 "nbformat": 4,
 "nbformat_minor": 2
}
