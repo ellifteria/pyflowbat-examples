{
 "cells": [
  {
   "cell_type": "code",
   "execution_count": null,
   "metadata": {},
   "outputs": [],
   "source": [
    "import pandas as pd\n",
    "import matplotlib as mpl\n",
    "import matplotlib.pyplot as plt\n",
    "import statsmodels.api as sm\n",
    "import pyflowbat as pfb"
   ]
  },
  {
   "cell_type": "code",
   "execution_count": null,
   "metadata": {},
   "outputs": [],
   "source": [
    "mpl.style.use(pfb.pyflowbat._std_vals.std_pfb_style)"
   ]
  },
  {
   "cell_type": "code",
   "execution_count": null,
   "metadata": {},
   "outputs": [],
   "source": [
    "pfb_data = pd.read_csv(\"ebrc-example-output.csv\")"
   ]
  },
  {
   "cell_type": "code",
   "execution_count": null,
   "metadata": {},
   "outputs": [],
   "source": [
    "flowjo_data = pd.read_csv(\"flowjo-analysis-formatted.csv\")"
   ]
  },
  {
   "cell_type": "code",
   "execution_count": null,
   "metadata": {},
   "outputs": [],
   "source": [
    "cellline_dict = {\n",
    "    373: \"no synTF\",\n",
    "    664: \"VP64 ZF1\",\n",
    "    665: \"VPR ZF1\",\n",
    "    666: \"p65 ZF1\",\n",
    "    667: \"p65trunc2 ZF1\",\n",
    "    668: \"VP64 ZF6\",\n",
    "    669: \"VP64 ZF8\",\n",
    "    670: \"VP64 ZF9\",\n",
    "    671: \"VP64 ZF10\",\n",
    "    672: \"VP64 ZF15\"\n",
    "}"
   ]
  },
  {
   "cell_type": "code",
   "execution_count": null,
   "metadata": {},
   "outputs": [],
   "source": [
    "import numpy as np\n",
    "\n",
    "slopes = []\n",
    "rsquared_adjs = []\n",
    "\n",
    "for cellline in [373, 664, 665, 666, 667, 668, 669, 670, 671, 672]:\n",
    "    print(f\"cell line: {cellline}\")\n",
    "    for col in [\"MEFLs\", \"MEPTRs\"]:\n",
    "        print(f\"col: {col}\")\n",
    "        xdata = np.array(flowjo_data.loc[flowjo_data['line'] == cellline][col])\n",
    "        ydata = np.array(pfb_data.loc[pfb_data['line'] == cellline][col])\n",
    "        model = sm.OLS(xdata, ydata)\n",
    "        results = model.fit()\n",
    "        slope = results.params[0]\n",
    "        slopes.append(slope)\n",
    "        rsquared_adj = results.rsquared_adj\n",
    "        rsquared_adjs.append(rsquared_adj)\n",
    "        print(f\"slope: {slope}\")\n",
    "        print(f\"adj r^2: {rsquared_adj}\")\n",
    "        fig = plt.figure()\n",
    "        ax = plt.gca()\n",
    "        x = xdata\n",
    "        ax.plot(x, x, 'k:', label=\"y=x\", zorder=0, linewidth=2)\n",
    "        ax.plot(x, x * slope, 'b', label=f\"y={slope:.2f}x; rsquard_adj={rsquared_adj:.3f}\", zorder=1, linewidth=2)\n",
    "        ax.scatter(xdata, ydata, color='red', marker='o', zorder=2)\n",
    "        ax.set_yscale('log')\n",
    "        ax.set_xscale('log')\n",
    "        ax.set_title(f\"{cellline_dict[cellline]}: {col} expression\")\n",
    "        ax.set_ylabel(\"PyFlowBAT quantified expression\")\n",
    "        ax.set_xlabel(\"Manual analysis quantified expression\")\n",
    "        ax.legend(loc='upper center', bbox_to_anchor=(0.5, -0.125),\n",
    "          fancybox=True, shadow=True, ncol=5)\n",
    "        fig.savefig(f\"parityplot_{cellline}_{col}.png\", dpi=500, bbox_inches =\"tight\")\n",
    "    print()\n",
    "        "
   ]
  },
  {
   "cell_type": "code",
   "execution_count": null,
   "metadata": {},
   "outputs": [],
   "source": [
    "print(f\"Slopes:\\nmean: {np.mean(slopes)}\\nstd: {np.std(slopes)}\\nsem: {np.std(slopes, ddof=1) / np.sqrt(np.size(slopes))}\")"
   ]
  },
  {
   "cell_type": "code",
   "execution_count": null,
   "metadata": {},
   "outputs": [],
   "source": [
    "print(f\"Adjusted R^2's:\\nmean: {np.mean(rsquared_adjs)}\\nstd: {np.std(rsquared_adjs)}\\nsem: {np.std(rsquared_adjs, ddof=1) / np.sqrt(np.size(rsquared_adjs))}\")"
   ]
  }
 ],
 "metadata": {
  "kernelspec": {
   "display_name": "pyflowbat",
   "language": "python",
   "name": "python3"
  },
  "language_info": {
   "codemirror_mode": {
    "name": "ipython",
    "version": 3
   },
   "file_extension": ".py",
   "mimetype": "text/x-python",
   "name": "python",
   "nbconvert_exporter": "python",
   "pygments_lexer": "ipython3",
   "version": "3.11.4"
  }
 },
 "nbformat": 4,
 "nbformat_minor": 2
}
