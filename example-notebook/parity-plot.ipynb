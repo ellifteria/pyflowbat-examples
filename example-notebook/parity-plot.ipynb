{
 "cells": [
  {
   "cell_type": "code",
   "execution_count": null,
   "metadata": {},
   "outputs": [],
   "source": [
    "import pandas as pd\n",
    "import matplotlib as mpl\n",
    "import matplotlib.pyplot as plt\n",
    "import statsmodels.api as sm\n",
    "import pyflowbat as pfb"
   ]
  },
  {
   "cell_type": "code",
   "execution_count": null,
   "metadata": {},
   "outputs": [],
   "source": [
    "mpl.style.use(pfb.pyflowbat._std_vals.std_pfb_style)"
   ]
  },
  {
   "cell_type": "code",
   "execution_count": null,
   "metadata": {},
   "outputs": [],
   "source": [
    "pfb_data = pd.read_csv(\"example-output.csv\")"
   ]
  },
  {
   "cell_type": "code",
   "execution_count": null,
   "metadata": {},
   "outputs": [],
   "source": [
    "flowjo_data = pd.read_csv(\"flowjo-analysis-formatted.csv\")"
   ]
  },
  {
   "cell_type": "code",
   "execution_count": null,
   "metadata": {},
   "outputs": [],
   "source": [
    "for cellline in [373, 664, 665, 666, 667, 668, 669, 670, 671, 672]:\n",
    "    print(f\"cell line: {cellline}\")\n",
    "    for col in [\"MEFLs\", \"MEPTRs\"]:\n",
    "        print(f\"col: {col}\")\n",
    "        model = sm.OLS(flowjo_data.loc[flowjo_data['CellLine'] == cellline][col], pfb_data.loc[pfb_data['CellLine'] == cellline][col])\n",
    "        results = model.fit()\n",
    "        slope = results.params[0]\n",
    "        rsquared_adj = results.rsquared_adj\n",
    "        print(f\"slope: {slope}\")\n",
    "        print(f\"adj r^2: {rsquared_adj}\")\n",
    "        fig = plt.figure()\n",
    "        ax = plt.gca()\n",
    "        x = flowjo_data.loc[flowjo_data['CellLine'] == cellline][col]\n",
    "        ax.plot(x, x, 'k:', label=\"y=x\", zorder=0, linewidth=2)\n",
    "        ax.plot(x, x * slope, 'b', label=f\"y={slope:.2f}x; rsquard_adj={rsquared_adj:.3f}\", zorder=1, linewidth=2)\n",
    "        ax.scatter(flowjo_data.loc[flowjo_data['CellLine'] == cellline][col], pfb_data.loc[pfb_data['CellLine'] == cellline][col], color='red', marker='o', zorder=2)\n",
    "        ax.set_yscale('log')\n",
    "        ax.set_xscale('log')\n",
    "        ax.set_title(f\"Cell line {cellline}: {col} expression\")\n",
    "        ax.set_ylabel(\"PyFlowBAT quantified expression\")\n",
    "        ax.set_xlabel(\"FlowJo quantified expression\")\n",
    "        ax.legend(loc='upper center', bbox_to_anchor=(0.5, -0.125),\n",
    "          fancybox=True, shadow=True, ncol=5)\n",
    "        fig.savefig(f\"parityplot_{cellline}_{col}.png\", dpi=500, bbox_inches =\"tight\")\n",
    "    print()\n",
    "        "
   ]
  }
 ],
 "metadata": {
  "kernelspec": {
   "display_name": "Python 3",
   "language": "python",
   "name": "python3"
  },
  "language_info": {
   "codemirror_mode": {
    "name": "ipython",
    "version": 3
   },
   "file_extension": ".py",
   "mimetype": "text/x-python",
   "name": "python",
   "nbconvert_exporter": "python",
   "pygments_lexer": "ipython3",
   "version": "3.11.3"
  }
 },
 "nbformat": 4,
 "nbformat_minor": 2
}
